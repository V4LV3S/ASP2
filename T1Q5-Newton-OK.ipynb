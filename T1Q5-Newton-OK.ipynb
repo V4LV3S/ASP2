{
 "cells": [
  {
   "cell_type": "code",
   "execution_count": 9,
   "metadata": {},
   "outputs": [],
   "source": [
    "#! METODO DESACOPLADO RAPIDO\n",
    "import cmath as cm\n",
    "import numpy as np"
   ]
  },
  {
   "cell_type": "code",
   "execution_count": 10,
   "metadata": {},
   "outputs": [],
   "source": [
    "cos = np.cos\n",
    "sin = np.sin"
   ]
  },
  {
   "cell_type": "code",
   "execution_count": 11,
   "metadata": {},
   "outputs": [],
   "source": [
    "def calc_P(index, V, O, Y):\n",
    "    G = np.real(Y)\n",
    "    B = np.imag(Y)\n",
    "\n",
    "    i = index - 1\n",
    "    p = 0\n",
    "    for m in range(len(V)):\n",
    "        p += V[m]*(G[i][m]*(cos(O[i] - O[m])) + B[i][m]*(sin(O[i] - O[m])))\n",
    "\n",
    "    return V[i]*p\n",
    "\n",
    "def calc_Q(index, V, O, Y):\n",
    "    G = np.real(Y)\n",
    "    B = np.imag(Y)\n",
    "\n",
    "    i = index - 1\n",
    "    q = 0\n",
    "    for m in range(len(V)):\n",
    "        q += V[m]*(G[i][m]*(sin(O[i] - O[m])) - B[i][m]*(cos(O[i] - O[m])))\n",
    "\n",
    "    return V[i]* q\n",
    "\n",
    "def calc_Hkk(index, V, O, Y):\n",
    "    G = np.real(Y)\n",
    "    B = np.imag(Y)\n",
    "\n",
    "    i = index - 1 \n",
    "\n",
    "    h = -B[i][i]*V[i]**2 - calc_Q(index, V, O, Y)\n",
    "    return h\n",
    "\n",
    "def calc_Nkk(index, V, O, Y):\n",
    "    G = np.real(Y)\n",
    "    B = np.imag(Y)\n",
    "\n",
    "    i = index - 1 \n",
    "\n",
    "    n = (V[i]**-1)*(calc_P(index, V, O, Y) + G[i][i]*(V[i]**2))\n",
    "    return n\n",
    "\n",
    "def calc_Mkk(index, V, O, Y):\n",
    "    G = np.real(Y)\n",
    "    B = np.imag(Y)\n",
    "\n",
    "    i = index - 1 \n",
    "\n",
    "    mm = -G[i][i]*(V[i]**2) + calc_P(index, V, O, Y)\n",
    "    return mm\n",
    "\n",
    "def calc_Lkk(index, V, O, Y):\n",
    "    G = np.real(Y)\n",
    "    B = np.imag(Y)\n",
    "\n",
    "    i = index - 1 \n",
    "\n",
    "    l = (V[i]**-1)*(calc_Q(index, V, O, Y) - B[i][i]*(V[i]**2))\n",
    "    return l"
   ]
  },
  {
   "cell_type": "code",
   "execution_count": 12,
   "metadata": {},
   "outputs": [],
   "source": [
    "z11 = z22 = .2 + 1j +.02j\n",
    "z12 = z21 = -(.2 + 1j)\n",
    "\n",
    "Y = np.array([[1/z11, 1/z12], [1/z21, 1/z22]])\n",
    "O = [0, 0]\n",
    "V =[1, 1]\n",
    "\n",
    "Pb = [0, -.3]\n",
    "Qb = [0, .07]"
   ]
  },
  {
   "cell_type": "code",
   "execution_count": 13,
   "metadata": {},
   "outputs": [
    {
     "name": "stdout",
     "output_type": "stream",
     "text": [
      "V = [1, 1.030015390534821]\n",
      "O = [0, -0.3100754136206233]\n",
      "V = [1, 0.9797851705584314]\n",
      "O = [0, -0.32179215288213386]\n",
      "V = [1, 0.9768401947936255]\n",
      "O = [0, -0.3234324690476332]\n"
     ]
    }
   ],
   "source": [
    "b = 2\n",
    "e = .001\n",
    "while True:\n",
    "    Pcalc = calc_P(b, V, O, Y)\n",
    "    Qcalc = calc_Q(b, V, O, Y)\n",
    "\n",
    "    dp = Pb[b-1] - Pcalc\n",
    "    dq = Qb[b-1] - Qcalc\n",
    "\n",
    "    if abs(dp) > e and abs(dq) > e:\n",
    "        dPQ = np.array([[dp], [dq]])\n",
    "\n",
    "        H = calc_Hkk(b, V, O, Y); L = calc_Lkk(b, V, O, Y); M = calc_Mkk(b, V, O, Y); N = calc_Nkk(b, V, O, Y)\n",
    "        J = np.array([[H, N], [M, L]])\n",
    "        Jinv = np.linalg.inv(J)\n",
    "\n",
    "        deltas = np.matmul(Jinv, dPQ)\n",
    "\n",
    "        dO = deltas[0][0]\n",
    "        dV = deltas[1][0]\n",
    "\n",
    "        O[b - 1] += dO\n",
    "        V[b - 1] += dV\n",
    "\n",
    "        print(f'V = {V}')\n",
    "        print(f'O = {O}')\n",
    "    else: break"
   ]
  },
  {
   "cell_type": "code",
   "execution_count": 14,
   "metadata": {},
   "outputs": [
    {
     "name": "stdout",
     "output_type": "stream",
     "text": [
      "V = [1, 0.9768401947936255]\n",
      "O = [0, -0.3234324690476332]\n",
      "P1 = 0.30552429842764633\n",
      "Q1= -0.006177872280795471\n"
     ]
    }
   ],
   "source": [
    "P1 = calc_P(1, V, O, Y)\n",
    "Q1 = calc_Q(1, V, O, Y)\n",
    "\n",
    "print(f'V = {V}')\n",
    "print(f'O = {O}')\n",
    "print(f'P1 = {P1}\\nQ1= {Q1}')"
   ]
  },
  {
   "cell_type": "code",
   "execution_count": 15,
   "metadata": {},
   "outputs": [
    {
     "name": "stdout",
     "output_type": "stream",
     "text": [
      "Iteracao 0\n",
      "V = [1, 0.9214280403680783]\n",
      "O = [0, -0.5123967360798755]\n",
      "Iteracao 1\n",
      "V = [1, 0.884937225718886]\n",
      "O = [0, -0.5550439021632056]\n"
     ]
    }
   ],
   "source": [
    "# Aumento de 50% da carga ativa e reativa\n",
    "# !Repetindo o codigo acima e trocando os valores de potencia\n",
    "Pb = [0, -.45]\n",
    "Qb = [0, .105]\n",
    "\n",
    "b = 2\n",
    "e = .001\n",
    "limit = 0\n",
    "while True:\n",
    "    Pcalc = calc_P(b, V, O, Y)\n",
    "    Qcalc = calc_Q(b, V, O, Y)\n",
    "\n",
    "    dp = Pb[b-1] - Pcalc\n",
    "    dq = Qb[b-1] - Qcalc\n",
    "\n",
    "    if abs(dp) > e and abs(dq) > e:\n",
    "        dPQ = np.array([[dp], [dq]])\n",
    "\n",
    "        H = calc_Hkk(b, V, O, Y); L = calc_Lkk(b, V, O, Y); M = calc_Mkk(b, V, O, Y); N = calc_Nkk(b, V, O, Y)\n",
    "        J = np.array([[H, N], [M, L]])\n",
    "        Jinv = np.linalg.inv(J)\n",
    "\n",
    "        deltas = np.matmul(Jinv, dPQ)\n",
    "\n",
    "        dO = deltas[0][0]\n",
    "        dV = deltas[1][0]\n",
    "\n",
    "        O[b - 1] += dO\n",
    "        V[b - 1] += dV\n",
    "\n",
    "        print(f'Iteracao {limit}')\n",
    "        print(f'V = {V}')\n",
    "        print(f'O = {O}')\n",
    "\n",
    "        limit += 1\n",
    "    elif limit > 20: break\n",
    "    else: break"
   ]
  },
  {
   "cell_type": "code",
   "execution_count": 16,
   "metadata": {},
   "outputs": [
    {
     "name": "stdout",
     "output_type": "stream",
     "text": [
      "V = [1, 0.884937225718886]\n",
      "O = [0, -0.5550439021632056]\n",
      "P1 = 0.4888927272702054\n",
      "Q1= 0.13125149402110092\n"
     ]
    }
   ],
   "source": [
    "P1 = calc_P(1, V, O, Y)\n",
    "Q1 = calc_Q(1, V, O, Y)\n",
    "\n",
    "print(f'V = {V}')\n",
    "print(f'O = {O}')\n",
    "print(f'P1 = {P1}\\nQ1= {Q1}')"
   ]
  }
 ],
 "metadata": {
  "kernelspec": {
   "display_name": "venv",
   "language": "python",
   "name": "python3"
  },
  "language_info": {
   "codemirror_mode": {
    "name": "ipython",
    "version": 3
   },
   "file_extension": ".py",
   "mimetype": "text/x-python",
   "name": "python",
   "nbconvert_exporter": "python",
   "pygments_lexer": "ipython3",
   "version": "3.11.2"
  }
 },
 "nbformat": 4,
 "nbformat_minor": 2
}
