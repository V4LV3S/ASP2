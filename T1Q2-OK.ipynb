{
 "cells": [
  {
   "cell_type": "code",
   "execution_count": 2,
   "metadata": {},
   "outputs": [],
   "source": [
    "#! METODO DESACOPLADO RAPIDO\n",
    "import cmath as cm\n",
    "import numpy as np"
   ]
  },
  {
   "cell_type": "code",
   "execution_count": 3,
   "metadata": {},
   "outputs": [],
   "source": [
    "cos = np.cos\n",
    "sin = np.sin"
   ]
  },
  {
   "cell_type": "code",
   "execution_count": 4,
   "metadata": {},
   "outputs": [],
   "source": [
    "def calc_P(index, V, O, Y):\n",
    "    G = np.real(Y)\n",
    "    B = np.imag(Y)\n",
    "\n",
    "    i = index - 1\n",
    "    p = 0\n",
    "    for m in range(len(V)):\n",
    "        p += V[m]*(G[i][m]*(cos(O[i] - O[m])) + B[i][m]*(sin(O[i] - O[m])))\n",
    "\n",
    "    return V[i]*p\n",
    "\n",
    "def calc_Q(index, V, O, Y):\n",
    "    G = np.real(Y)\n",
    "    B = np.imag(Y)\n",
    "\n",
    "    i = index - 1\n",
    "    q = 0\n",
    "    for m in range(len(V)):\n",
    "        q += V[m]*(G[i][m]*(sin(O[i] - O[m])) - B[i][m]*(cos(O[i] - O[m])))\n",
    "\n",
    "    return V[i]* q\n"
   ]
  },
  {
   "cell_type": "code",
   "execution_count": 5,
   "metadata": {},
   "outputs": [],
   "source": [
    "def calc_Hkk(index, V, O, Y):\n",
    "    G = np.real(Y)\n",
    "    B = np.imag(Y)\n",
    "\n",
    "    i = index - 1 \n",
    "\n",
    "    h = -B[i][i]*V[i]**2 - calc_Q(index, V, O, Y)\n",
    "    return h\n",
    "\n",
    "def calc_Lkk(index, V, O, Y):\n",
    "    G = np.real(Y)\n",
    "    B = np.imag(Y)\n",
    "\n",
    "    i = index - 1 \n",
    "\n",
    "    l = (V[i]**-1)*(calc_Q(index, V, O, Y) - B[i][i]*(V[i]**2))\n",
    "    return l\n"
   ]
  },
  {
   "cell_type": "code",
   "execution_count": 6,
   "metadata": {},
   "outputs": [],
   "source": [
    "z11 = z22 = .2 + 1j +.02j\n",
    "z12 = z21 = -(.2 + 1j)\n",
    "\n",
    "Y = np.array([[1/z11, 1/z12], [1/z21, 1/z22]])\n",
    "O = [0, 0]\n",
    "V =[1, 1]"
   ]
  },
  {
   "cell_type": "code",
   "execution_count": 7,
   "metadata": {},
   "outputs": [
    {
     "name": "stdout",
     "output_type": "stream",
     "text": [
      "[1, 0.986] [0, -0.3045]\n",
      "[1, 0.9776] [0, -0.322]\n",
      "[1, 0.9776] [0, -0.322]\n"
     ]
    }
   ],
   "source": [
    "e = 0.003\n",
    "\n",
    "KP = 1; KQ = 1\n",
    "P2 = -.3 ; Q2 = .07\n",
    "\n",
    "#! VARIAVEIS ALVO - O2 e V2 \n",
    "while True:\n",
    "    Pcalc = round(calc_P(2, V, O, Y), 4)\n",
    "    dp = P2 - Pcalc\n",
    "    if abs(dp) > e:\n",
    "        H = calc_Hkk(2, V, O, Y)\n",
    "        DO = round((H**-1), 4) * dp\n",
    "        O[2-1] = O[2-1] + round(DO, 4)\n",
    "\n",
    "        KQ = 1\n",
    "    else: KP = 0\n",
    "\n",
    "    Qcalc = calc_Q(2, V, O, Y)\n",
    "    dq = Q2 - round(Qcalc, 4)\n",
    "    if abs(dq) > e:\n",
    "        L = round(calc_Lkk(2, V, O, Y), 4)\n",
    "        DV = round((L**-1), 4) * dq\n",
    "        V[2-1] = V[2-1] + round(DV, 4)\n",
    "\n",
    "        KP = 1\n",
    "    else: KQ = 0\n",
    "\n",
    "    print(V, O)\n",
    "    if KP == 0 and KQ == 0: break\n",
    "    "
   ]
  },
  {
   "cell_type": "code",
   "execution_count": 8,
   "metadata": {},
   "outputs": [
    {
     "name": "stdout",
     "output_type": "stream",
     "text": [
      "V = [1, 0.9776]\n",
      "O = [0, -0.322]\n",
      "P1 = 0.3042555357241282\n",
      "Q1= -0.007088651382683664\n"
     ]
    }
   ],
   "source": [
    "P1 = calc_P(1, V, O, Y)\n",
    "Q1 = calc_Q(1, V, O, Y)\n",
    "\n",
    "print(f'V = {V}')\n",
    "print(f'O = {O}')\n",
    "print(f'P1 = {P1}\\nQ1= {Q1}')"
   ]
  }
 ],
 "metadata": {
  "kernelspec": {
   "display_name": "venv",
   "language": "python",
   "name": "python3"
  },
  "language_info": {
   "codemirror_mode": {
    "name": "ipython",
    "version": 3
   },
   "file_extension": ".py",
   "mimetype": "text/x-python",
   "name": "python",
   "nbconvert_exporter": "python",
   "pygments_lexer": "ipython3",
   "version": "3.11.2"
  }
 },
 "nbformat": 4,
 "nbformat_minor": 2
}
