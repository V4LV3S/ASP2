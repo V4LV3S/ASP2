{
 "cells": [
  {
   "cell_type": "code",
   "execution_count": 1,
   "metadata": {},
   "outputs": [],
   "source": [
    "#! METODO DESACOPLADO RAPIDO\n",
    "import cmath as cm\n",
    "import numpy as np"
   ]
  },
  {
   "cell_type": "code",
   "execution_count": 2,
   "metadata": {},
   "outputs": [],
   "source": [
    "cos = np.cos\n",
    "sin = np.sin"
   ]
  },
  {
   "cell_type": "code",
   "execution_count": 3,
   "metadata": {},
   "outputs": [],
   "source": [
    "def calc_P(index, V, O, Y):\n",
    "    G = np.real(Y)\n",
    "    B = np.imag(Y)\n",
    "\n",
    "    k = index - 1\n",
    "    pot = 0\n",
    "    for m in range(len(V)):\n",
    "        pot += V[m] * (G[k][m]*cos(O[k] - O[m]) + B[k][m]*sin(O[k] - O[m]))\n",
    "        \n",
    "    return V[k] * pot\n",
    "\n",
    "def calc_Q(index, V, O, Y):\n",
    "    G = np.real(Y)\n",
    "    B = np.imag(Y)\n",
    "\n",
    "    i = index - 1\n",
    "    q = 0\n",
    "    for m in range(len(V)):\n",
    "        q += V[m]*(G[i][m]*(sin(O[i] - O[m])) - B[i][m]*(cos(O[i] - O[m])))\n",
    "\n",
    "    return V[i]* q"
   ]
  },
  {
   "cell_type": "code",
   "execution_count": 4,
   "metadata": {},
   "outputs": [],
   "source": [
    "def calc_Hkk(index, V, O, Y):\n",
    "    G = np.real(Y)\n",
    "    B = np.imag(Y)\n",
    "\n",
    "    i = index - 1 \n",
    "\n",
    "    h = -B[i][i]*V[i]**2 - calc_Q(index, V, O, Y)\n",
    "\n",
    "    return h\n",
    "\n",
    "def calc_Nkk(index, V, O, Y):\n",
    "    G = np.real(Y)\n",
    "    B = np.imag(Y)\n",
    "\n",
    "    i = index - 1 \n",
    "\n",
    "    n = (V[i]**-1)*(calc_P(index, V, O, Y) + G[i][i]*V[i]**2)\n",
    "\n",
    "    return n\n",
    "\n",
    "def calc_Mkk(index, V, O, Y):\n",
    "    G = np.real(Y)\n",
    "    B = np.imag(Y)\n",
    "\n",
    "    i = index - 1 \n",
    "\n",
    "    mm = -G[i][i]*V[i]**2 + calc_P(index, V, O, Y)\n",
    "    return mm\n",
    "\n",
    "def calc_Lkk(index, V, O, Y):\n",
    "    G = np.real(Y)\n",
    "    B = np.imag(Y)\n",
    "\n",
    "    i = index - 1 \n",
    "\n",
    "    l = (V[i]**-1)*(calc_Q(index, V, O, Y) - B[i][i]*V[i]**2)\n",
    "\n",
    "    return l\n"
   ]
  },
  {
   "cell_type": "code",
   "execution_count": 5,
   "metadata": {},
   "outputs": [],
   "source": [
    "z12 = z21 = -(.01 + .05j)\n",
    "z11 = z22 = (.01 + .05j)"
   ]
  },
  {
   "cell_type": "code",
   "execution_count": 6,
   "metadata": {},
   "outputs": [],
   "source": [
    "Y = np.array([[1/z11, 1/z12], [1/z21, 1/z22]])\n",
    "O = [0, 0]\n",
    "V =[1.0112, 1]\n",
    "\n",
    "Pb = [0, -1]\n",
    "Qb = [0, 0]"
   ]
  },
  {
   "cell_type": "code",
   "execution_count": 8,
   "metadata": {},
   "outputs": [
    {
     "name": "stdout",
     "output_type": "stream",
     "text": [
      "[[-0.00399023]\n",
      " [-0.02397947]]\n",
      "[1.0112, 0.9999642031113659]\n",
      "[0, -0.049468118314663134]\n"
     ]
    }
   ],
   "source": [
    "b = 2\n",
    "Pcalc = calc_P(b, V, O, Y)\n",
    "Qcalc = calc_Q(b, V, O, Y)\n",
    "\n",
    "dp = Pb[b-1] - Pcalc\n",
    "dq = Qb[b-1] - Qcalc\n",
    "dPQ = np.array([[dp], [dq]])\n",
    "print(dPQ)\n",
    "\n",
    "H = calc_Hkk(b, V, O, Y); L = calc_Lkk(b, V, O, Y); M = calc_Mkk(b, V, O, Y); N = calc_Nkk(b, V, O, Y)\n",
    "J = np.array([[H, N], [M, L]])\n",
    "Jinv = np.linalg.inv(J)\n",
    "\n",
    "deltas = np.matmul(Jinv, dPQ)\n",
    "\n",
    "dO = deltas[0][0]\n",
    "dV = deltas[1][0]\n",
    "\n",
    "O[b - 1] += dO\n",
    "V[b - 1] += dV\n",
    "\n",
    "print(V)\n",
    "print(O)"
   ]
  }
 ],
 "metadata": {
  "kernelspec": {
   "display_name": "venv",
   "language": "python",
   "name": "python3"
  },
  "language_info": {
   "codemirror_mode": {
    "name": "ipython",
    "version": 3
   },
   "file_extension": ".py",
   "mimetype": "text/x-python",
   "name": "python",
   "nbconvert_exporter": "python",
   "pygments_lexer": "ipython3",
   "version": "3.11.2"
  }
 },
 "nbformat": 4,
 "nbformat_minor": 2
}
