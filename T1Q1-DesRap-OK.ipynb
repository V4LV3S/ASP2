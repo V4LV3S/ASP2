{
 "cells": [
  {
   "cell_type": "code",
   "execution_count": 7,
   "metadata": {},
   "outputs": [],
   "source": [
    "#! METODO DESACOPLADO RAPIDO\n",
    "import cmath as cm\n",
    "import numpy as np"
   ]
  },
  {
   "cell_type": "code",
   "execution_count": 8,
   "metadata": {},
   "outputs": [],
   "source": [
    "cos = np.cos\n",
    "sin = np.sin"
   ]
  },
  {
   "cell_type": "code",
   "execution_count": 9,
   "metadata": {},
   "outputs": [],
   "source": [
    "def calc_P(index, V, O, Y):\n",
    "    G = np.real(Y)\n",
    "    B = np.imag(Y)\n",
    "\n",
    "    i = index - 1\n",
    "    p = 0\n",
    "    for m in range(len(V)):\n",
    "        p += V[m]*(G[i][m]*(cos(O[i] - O[m])) + B[i][m]*(sin(O[i] - O[m])))\n",
    "\n",
    "    return V[i]*p\n",
    "\n",
    "def calc_Q(index, V, O, Y):\n",
    "    G = np.real(Y)\n",
    "    B = np.imag(Y)\n",
    "\n",
    "    i = index - 1\n",
    "    q = 0\n",
    "    for m in range(len(V)):\n",
    "        q += V[m]*(G[i][m]*(sin(O[i] - O[m])) - B[i][m]*(cos(O[i] - O[m])))\n",
    "\n",
    "    return V[i]* q\n"
   ]
  },
  {
   "cell_type": "code",
   "execution_count": 10,
   "metadata": {},
   "outputs": [],
   "source": [
    "def calc_Hkk_ar(index, Z):\n",
    "    X = np.imag(Z)\n",
    "\n",
    "    i = index - 1 \n",
    "    h = X[i][i]\n",
    "\n",
    "    return 1/h\n",
    "\n",
    "def calc_Lkk_ar(index, Y):\n",
    "    G = np.real(Y)\n",
    "    B = np.imag(Y)\n",
    "\n",
    "    i = index - 1\n",
    "\n",
    "    return -B[i][i]"
   ]
  },
  {
   "cell_type": "code",
   "execution_count": 15,
   "metadata": {},
   "outputs": [],
   "source": [
    "z11 = z22 = 0.01 + 0.05j\n",
    "z12 = z21 = -z11\n",
    "\n",
    "Y = np.array([[1/z11, 1/z12], [1/z21, 1/z22]])\n",
    "Z = np.array([[z11, z12], [z21, z22]])\n",
    "O = [0, 0]\n",
    "V =[1.0112, 1]"
   ]
  },
  {
   "cell_type": "code",
   "execution_count": 16,
   "metadata": {},
   "outputs": [
    {
     "name": "stdout",
     "output_type": "stream",
     "text": [
      "--- i = 0 --- \n",
      "V = [1.0112, 1.000370059129803]\n",
      "O = [0, -0.04784615384615383]\n",
      "--- i = 1 --- \n",
      "V = [1.0112, 0.9999633638747242]\n",
      "O = [0, -0.04946468337875143]\n",
      "--- i = 2 --- \n",
      "V = [1.0112, 0.9999633638747242]\n",
      "O = [0, -0.04946468337875143]\n"
     ]
    }
   ],
   "source": [
    "KP = KQ = 1\n",
    "e = .001\n",
    "P2 = -1\n",
    "Q2 = 0\n",
    "\n",
    "v= 0 \n",
    "while True:\n",
    "    p = calc_P(2, V, O, Y)\n",
    "    dp = P2 - p\n",
    "    if abs(dp) > e:\n",
    "        H = calc_Hkk_ar(2, Z)\n",
    "        DO = (H**-1) * dp\n",
    "        O[2 - 1] = O[2 - 1] + DO\n",
    "\n",
    "        KQ = 1\n",
    "    else: KP = 0\n",
    "\n",
    "\n",
    "    q = calc_Q(2, V, O, Y)\n",
    "    dq = Q2 - q\n",
    "    if abs(dq) > e:\n",
    "        L = calc_Lkk_ar(2, Y) \n",
    "        DV = (L**-1) * dq\n",
    "        V[2 - 1] = V[2 - 1] + DV\n",
    "\n",
    "        KP = 1\n",
    "    else: KQ = 0\n",
    "\n",
    "    print(f'--- i = {v} --- ')\n",
    "    \n",
    "    v += 1\n",
    "    if KQ == 0  and KP == 0: break\n",
    "\n"
   ]
  },
  {
   "cell_type": "code",
   "execution_count": 23,
   "metadata": {},
   "outputs": [
    {
     "name": "stdout",
     "output_type": "stream",
     "text": [
      "V = [1.0112, 0.9999633638747242]\n",
      "O = [0, -0.04946468337875143]\n",
      "P1 = 1.009929134215686\n",
      "Q1= 0.04999953716512551\n"
     ]
    }
   ],
   "source": [
    "P1 = calc_P(1, V, O, Y)\n",
    "Q1 = calc_Q(1, V, O, Y)\n",
    "\n",
    "print(f'V = {V}')\n",
    "print(f'O = {O}')\n",
    "print(f'P1 = {P1}\\nQ1= {Q1}')"
   ]
  }
 ],
 "metadata": {
  "kernelspec": {
   "display_name": "venv",
   "language": "python",
   "name": "python3"
  },
  "language_info": {
   "codemirror_mode": {
    "name": "ipython",
    "version": 3
   },
   "file_extension": ".py",
   "mimetype": "text/x-python",
   "name": "python",
   "nbconvert_exporter": "python",
   "pygments_lexer": "ipython3",
   "version": "3.11.2"
  }
 },
 "nbformat": 4,
 "nbformat_minor": 2
}
