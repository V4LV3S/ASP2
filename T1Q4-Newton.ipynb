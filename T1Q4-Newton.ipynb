{
 "cells": [
  {
   "cell_type": "code",
   "execution_count": 4,
   "metadata": {},
   "outputs": [],
   "source": [
    "#! METODO DESACOPLADO RAPIDO\n",
    "import cmath as cm\n",
    "import numpy as np"
   ]
  },
  {
   "cell_type": "code",
   "execution_count": 5,
   "metadata": {},
   "outputs": [],
   "source": [
    "cos = np.cos\n",
    "sin = np.sin"
   ]
  },
  {
   "cell_type": "code",
   "execution_count": 6,
   "metadata": {},
   "outputs": [],
   "source": [
    "def calc_P(index, V, O, Y):\n",
    "    G = np.real(Y)\n",
    "    B = np.imag(Y)\n",
    "\n",
    "    i = index - 1\n",
    "    p = 0\n",
    "    for m in range(len(V)):\n",
    "        p += V[m]*(G[i][m]*(cos(O[i] - O[m])) + B[i][m]*(sin(O[i] - O[m])))\n",
    "\n",
    "    return V[i]*p\n",
    "\n",
    "def calc_Q(index, V, O, Y):\n",
    "    G = np.real(Y)\n",
    "    B = np.imag(Y)\n",
    "\n",
    "    i = index - 1\n",
    "    q = 0\n",
    "    for m in range(len(V)):\n",
    "        q += V[m]*(G[i][m]*(sin(O[i] - O[m])) - B[i][m]*(cos(O[i] - O[m])))\n",
    "\n",
    "    return V[i]* q\n",
    "\n",
    "def calc_Hkk(index, V, O, Y):\n",
    "    G = np.real(Y)\n",
    "    B = np.imag(Y)\n",
    "\n",
    "    i = index - 1 \n",
    "\n",
    "    h = -B[i][i]*V[i]**2 - calc_Q(index, V, O, Y)\n",
    "    return h\n",
    "\n",
    "def calc_Nkk(index, V, O, Y):\n",
    "    G = np.real(Y)\n",
    "    B = np.imag(Y)\n",
    "\n",
    "    i = index - 1 \n",
    "\n",
    "    n = (V[i]**-1)*(calc_P(index, V, O, Y) + G[i][i]*(V[i]**2))\n",
    "    return n\n",
    "\n",
    "def calc_Mkk(index, V, O, Y):\n",
    "    G = np.real(Y)\n",
    "    B = np.imag(Y)\n",
    "\n",
    "    i = index - 1 \n",
    "\n",
    "    mm = -G[i][i]*(V[i]**2) + calc_P(index, V, O, Y)\n",
    "    return mm\n",
    "\n",
    "def calc_Lkk(index, V, O, Y):\n",
    "    G = np.real(Y)\n",
    "    B = np.imag(Y)\n",
    "\n",
    "    i = index - 1 \n",
    "\n",
    "    l = (V[i]**-1)*(calc_Q(index, V, O, Y) - B[i][i]*(V[i]**2))\n",
    "    return l\n"
   ]
  },
  {
   "cell_type": "code",
   "execution_count": 61,
   "metadata": {},
   "outputs": [
    {
     "data": {
      "text/plain": [
       "array([[ 16.66666667-16.66666667j, -50.        +50.j        ,\n",
       "        -25.        +25.j        ],\n",
       "       [-50.        +50.j        ,  12.5       -12.5j       ,\n",
       "        -16.66666667+16.66666667j],\n",
       "       [-25.        +25.j        , -16.66666667+16.66666667j,\n",
       "         10.        -10.j        ]])"
      ]
     },
     "execution_count": 61,
     "metadata": {},
     "output_type": "execute_result"
    }
   ],
   "source": [
    "z12 = z21 = -(.01 + .01j)\n",
    "z13 = z31 = -(.02 + .02j)\n",
    "z23 = z32 = -(.03 + .03j)\n",
    "\n",
    "z11 = (.03 + .03j)\n",
    "z22 = (.04 + .04j)\n",
    "z33 = (.05 + .05j)\n",
    "\n",
    "Y = np.array([[1/z11, 1/z12, 1/z13], [1/z21, 1/z22, 1/z23] , [1/z31, 1/z32, 1/z33]])\n",
    "V =[1, 1, 1]\n",
    "O = [0, 0, 0]\n",
    "\n",
    "P = [-.4, -.3, 0]\n",
    "Q = [.2, .3, 0]\n",
    "\n",
    "Y"
   ]
  },
  {
   "cell_type": "code",
   "execution_count": 62,
   "metadata": {},
   "outputs": [
    {
     "name": "stdout",
     "output_type": "stream",
     "text": [
      "[-0.3976000000000002, 1, 1] [-0.003999999999999968, 0, 0]\n",
      "[-0.3976000000000002, 0.44328766099813266, 1] [-0.003999999999999968, 0.08239511305994504, 0]\n",
      "[-0.041739532932028256, 0.44328766099813266, 1] [0.016513319047487464, 0.08239511305994504, 0]\n",
      "[-0.041739532932028256, -0.6990257795147403, 1] [0.016513319047487464, 0.1697888751310496, 0]\n"
     ]
    }
   ],
   "source": [
    "\n",
    "for it in range(2):\n",
    "    Pcalc1 = calc_P(1, V, O, Y)\n",
    "    Qcalc1 = calc_Q(1, V, O, Y)\n",
    "\n",
    "    dp1 = P[1 -1] - Pcalc1\n",
    "    dq1 = Q[1 -1] - Qcalc1\n",
    "    dPQ1 = np.array([[dp1], [dq1]])\n",
    "\n",
    "    H = calc_Hkk(1, V, O, Y); L = calc_Lkk(1, V, O, Y); M = calc_Mkk(1, V, O, Y); N = calc_Nkk(1, V, O, Y)\n",
    "    J = np.array([[H, N], [M, L]])\n",
    "    Jinv = np.linalg.inv(J)\n",
    "\n",
    "    deltas1 = np.matmul(Jinv, dPQ1)\n",
    "    dO1 = deltas1[0][0]\n",
    "    dV1 = deltas1[1][0]\n",
    "\n",
    "    O[1 - 1] += dO1\n",
    "    V[1 - 1] += dV1\n",
    "    print(V, O)\n",
    "\n",
    "\n",
    "    Pcalc2 = calc_P(2, V, O, Y)\n",
    "    Qcalc2 = calc_Q(2, V, O, Y)\n",
    "\n",
    "    dp2 = P[2 -1] - Pcalc2\n",
    "    dq2 = Q[2 -1] - Qcalc2\n",
    "    dPQ2 = np.array([[dp2], [dq2]])\n",
    "\n",
    "    H = calc_Hkk(2, V, O, Y); L = calc_Lkk(2, V, O, Y); M = calc_Mkk(2, V, O, Y); N = calc_Nkk(2, V, O, Y)\n",
    "    J = np.array([[H, N], [M, L]])\n",
    "    Jinv = np.linalg.inv(J)\n",
    "\n",
    "    deltas2 = np.matmul(Jinv, dPQ2)\n",
    "    dO2 = deltas2[0][0]\n",
    "    dV2 = deltas2[1][0]\n",
    "\n",
    "    O[2 - 1] += dO2\n",
    "    V[2 - 1] += dV2\n",
    "    print(V, O)\n",
    "\n"
   ]
  }
 ],
 "metadata": {
  "kernelspec": {
   "display_name": "venv",
   "language": "python",
   "name": "python3"
  },
  "language_info": {
   "codemirror_mode": {
    "name": "ipython",
    "version": 3
   },
   "file_extension": ".py",
   "mimetype": "text/x-python",
   "name": "python",
   "nbconvert_exporter": "python",
   "pygments_lexer": "ipython3",
   "version": "3.11.2"
  }
 },
 "nbformat": 4,
 "nbformat_minor": 2
}
