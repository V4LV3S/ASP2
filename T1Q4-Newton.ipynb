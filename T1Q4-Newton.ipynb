{
 "cells": [
  {
   "cell_type": "code",
   "execution_count": 1,
   "metadata": {},
   "outputs": [],
   "source": [
    "#! METODO DESACOPLADO RAPIDO\n",
    "import cmath as cm\n",
    "import numpy as np"
   ]
  },
  {
   "cell_type": "code",
   "execution_count": 2,
   "metadata": {},
   "outputs": [],
   "source": [
    "cos = np.cos\n",
    "sin = np.sin"
   ]
  },
  {
   "cell_type": "code",
   "execution_count": 3,
   "metadata": {},
   "outputs": [],
   "source": [
    "def calc_P(index, V, O, Y):\n",
    "    G = np.real(Y)\n",
    "    B = np.imag(Y)\n",
    "\n",
    "    i = index - 1\n",
    "    p = 0\n",
    "    for m in range(len(V)):\n",
    "        p += V[m]*(G[i][m]*(cos(O[i] - O[m])) + B[i][m]*(sin(O[i] - O[m])))\n",
    "\n",
    "    return V[i]*p\n",
    "\n",
    "def calc_Q(index, V, O, Y):\n",
    "    G = np.real(Y)\n",
    "    B = np.imag(Y)\n",
    "\n",
    "    i = index - 1\n",
    "    q = 0\n",
    "    for m in range(len(V)):\n",
    "        q += V[m]*(G[i][m]*(sin(O[i] - O[m])) - B[i][m]*(cos(O[i] - O[m])))\n",
    "\n",
    "    return V[i]* q\n",
    "\n",
    "def calc_Hkk(index, V, O, Y):\n",
    "    G = np.real(Y)\n",
    "    B = np.imag(Y)\n",
    "\n",
    "    i = index - 1 \n",
    "\n",
    "    h = -B[i][i]*V[i]**2 - calc_Q(index, V, O, Y)\n",
    "    return h\n",
    "\n",
    "def calc_Nkk(index, V, O, Y):\n",
    "    G = np.real(Y)\n",
    "    B = np.imag(Y)\n",
    "\n",
    "    i = index - 1 \n",
    "\n",
    "    n = (V[i]**-1)*(calc_P(index, V, O, Y) + G[i][i]*(V[i]**2))\n",
    "    return n\n",
    "\n",
    "def calc_Mkk(index, V, O, Y):\n",
    "    G = np.real(Y)\n",
    "    B = np.imag(Y)\n",
    "\n",
    "    i = index - 1 \n",
    "\n",
    "    mm = -G[i][i]*(V[i]**2) + calc_P(index, V, O, Y)\n",
    "    return mm\n",
    "\n",
    "def calc_Lkk(index, V, O, Y):\n",
    "    G = np.real(Y)\n",
    "    B = np.imag(Y)\n",
    "\n",
    "    i = index - 1 \n",
    "\n",
    "    l = (V[i]**-1)*(calc_Q(index, V, O, Y) - B[i][i]*(V[i]**2))\n",
    "    return l\n",
    "\n",
    "def calc_Hkm(i, j, V, O, Y):\n",
    "    G = np.real(Y)\n",
    "    B = np.imag(Y)\n",
    "\n",
    "    k = i - 1\n",
    "    m = j - 1\n",
    "\n",
    "    h = V[k]*V[m]*(G[k][m]*sin(O[k] - O[m]) - B[k][m]*cos(O[k] - O[m]))\n",
    "    return h\n",
    "\n",
    "def calc_Nkm(i, j, V, O, Y):\n",
    "    G = np.real(Y)\n",
    "    B = np.imag(Y)\n",
    "\n",
    "    k = i - 1\n",
    "    m = j - 1\n",
    "\n",
    "    n = V[m]*(G[k][m]*cos(O[k] - O[m]) + B[k][m]*sin(O[k] - O[m]))\n",
    "    return n\n",
    "\n",
    "def calc_Mkm(i, j, V, O, Y):\n",
    "    G = np.real(Y)\n",
    "    B = np.imag(Y)\n",
    "\n",
    "    k = i - 1\n",
    "    m = j - 1\n",
    "\n",
    "    mm = -V[k]*V[m]*(G[k][m]*cos(O[k] - O[m]) + B[k][m]*sin(O[k] - O[m]))\n",
    "    return mm\n",
    "\n",
    "def calc_Lkm(i, j, V, O, Y):\n",
    "    G = np.real(Y)\n",
    "    B = np.imag(Y)\n",
    "\n",
    "    k = i - 1\n",
    "    m = j - 1\n",
    "\n",
    "    mm = V[k]*(G[k][m]*sin(O[k] - O[m]) - B[k][m]*cos(O[k] - O[m]))\n",
    "    return mm\n",
    "\n"
   ]
  },
  {
   "cell_type": "code",
   "execution_count": 12,
   "metadata": {},
   "outputs": [
    {
     "name": "stdout",
     "output_type": "stream",
     "text": [
      "[[ 75.        -75.j         -50.        +50.j\n",
      "  -25.        +25.j        ]\n",
      " [-50.        +50.j          66.66666667-66.66666667j\n",
      "  -16.66666667+16.66666667j]\n",
      " [-25.        +25.j         -16.66666667+16.66666667j\n",
      "   41.66666667-41.66666667j]]\n"
     ]
    }
   ],
   "source": [
    "z12 = z21 = -(.01 + .01j)\n",
    "z13 = z31 = -(.02 + .02j)\n",
    "z23 = z32 = -(.03 + .03j)\n",
    "\n",
    "Y = np.array([[ -(1/z12 + 1/z13), 1/z12, 1/z13], [1/z21, -(1/z12 + 1/z23), 1/z23] , [1/z31, 1/z32, -(1/z13 + 1/z32)]])\n",
    "\n",
    "V =[1, 1, 1]\n",
    "O = [0, 0, 0]\n",
    "\n",
    "P = [-.4, -.3, 0]\n",
    "Q = [.2, .3, 0]\n",
    "print(Y)"
   ]
  },
  {
   "cell_type": "code",
   "execution_count": 18,
   "metadata": {},
   "outputs": [
    {
     "name": "stdout",
     "output_type": "stream",
     "text": [
      "V = [0.9973333333333333, 0.9979999999999999, 1]   O = [-0.014, -0.015000000000000001, 0]\n",
      "V = [0.9972213782113636, 0.9978874206646642, 1]   O = [-0.014035459850207712, -0.015038323752716992, 0]\n"
     ]
    }
   ],
   "source": [
    "z12 = z21 = -(.01 + .01j)\n",
    "z13 = z31 = -(.02 + .02j)\n",
    "z23 = z32 = -(.03 + .03j)\n",
    "\n",
    "Y = np.array([[ -(1/z12 + 1/z13), 1/z12, 1/z13], [1/z21, -(1/z12 + 1/z23), 1/z23] , [1/z31, 1/z32, -(1/z13 + 1/z32)]])\n",
    "\n",
    "V =[1, 1, 1]\n",
    "O = [0, 0, 0]\n",
    "\n",
    "P = [-.4, -.3, 0]\n",
    "Q = [.2, .3, 0]\n",
    "\n",
    "for it in range(2):\n",
    "    dps = []; dqs = []\n",
    "    for b in (1, 2):\n",
    "        Pcalc = calc_P(b, V, O, Y)\n",
    "        Qcalc = calc_Q(b, V, O, Y)\n",
    "\n",
    "        dp = P[b -1] - Pcalc\n",
    "        dq = Q[b -1] - Qcalc\n",
    "        dps.append(dp); dqs.append(dq)\n",
    "\n",
    "    DP = np.array(dps)\n",
    "    DQ = np.array(dqs)\n",
    "    DPQ = np.block([DP, DQ]).T\n",
    "\n",
    "    H = []; L = []; M = []; N = []\n",
    "    for b in (1, 2):\n",
    "        for v in (1, 2):\n",
    "            if b == v:\n",
    "                Hx = calc_Hkk(v, V, O, Y); Lx = calc_Lkk(v, V, O, Y); Mx = calc_Mkk(v, V, O, Y); Nx = calc_Nkk(v, V, O, Y)\n",
    "            else:\n",
    "                Hx = calc_Hkm(b, v, V, O, Y); Lx = calc_Lkm(b, v, V, O, Y); Mx = calc_Mkm(b, v, V, O, Y); Nx = calc_Nkm(b, v, V, O, Y)\n",
    "            H.append(Hx); L.append(Lx); M.append(Mx); N.append(Nx)\n",
    "    \n",
    "    H = np.array(H).reshape((2, 2)); L = np.array(L).reshape((2, 2)); M = np.array(M).reshape((2, 2)); N = np.array(N).reshape((2, 2))\n",
    "    J = np.block([[H, N], [M, L]])\n",
    "\n",
    "    Jinv = np.linalg.inv(J)\n",
    "\n",
    "    deltas = np.matmul(Jinv, DPQ)\n",
    "    O[1 - 1] += deltas[0]\n",
    "    V[1 - 1] += deltas[2]\n",
    "\n",
    "    O[2 - 1] += deltas[1]\n",
    "    V[2 - 1] += deltas[3]\n",
    "\n",
    "    print(f'V = {V}   O = {O}')\n"
   ]
  },
  {
   "cell_type": "code",
   "execution_count": 22,
   "metadata": {},
   "outputs": [
    {
     "name": "stdout",
     "output_type": "stream",
     "text": [
      "V = [0.9972213782113636, 0.9978874206646642, 1]\n",
      "O = [-0.014035459850207712, -0.015038323752716992, 0]\n",
      "P3 = 0.7090111560103693\n",
      "Q1= -0.49098851423094914\n"
     ]
    }
   ],
   "source": [
    "P3 = calc_P(3, V, O, Y)\n",
    "Q3 = calc_Q(3, V, O, Y)\n",
    "\n",
    "print(f'V = {V}')\n",
    "print(f'O = {O}')\n",
    "print(f'P3 = {P3}\\nQ1= {Q3}')"
   ]
  }
 ],
 "metadata": {
  "kernelspec": {
   "display_name": "venv",
   "language": "python",
   "name": "python3"
  },
  "language_info": {
   "codemirror_mode": {
    "name": "ipython",
    "version": 3
   },
   "file_extension": ".py",
   "mimetype": "text/x-python",
   "name": "python",
   "nbconvert_exporter": "python",
   "pygments_lexer": "ipython3",
   "version": "3.11.2"
  }
 },
 "nbformat": 4,
 "nbformat_minor": 2
}
